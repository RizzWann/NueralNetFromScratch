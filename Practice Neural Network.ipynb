{
 "cells": [
  {
   "cell_type": "code",
   "execution_count": 58,
   "id": "7bec2b8e",
   "metadata": {},
   "outputs": [],
   "source": [
    "import numpy as np"
   ]
  },
  {
   "cell_type": "code",
   "execution_count": 60,
   "id": "944d888b",
   "metadata": {},
   "outputs": [
    {
     "ename": "TypeError",
     "evalue": "array() takes from 1 to 2 positional arguments but 3 were given",
     "output_type": "error",
     "traceback": [
      "\u001b[1;31m---------------------------------------------------------------------------\u001b[0m",
      "\u001b[1;31mTypeError\u001b[0m                                 Traceback (most recent call last)",
      "\u001b[1;32m~\\AppData\\Local\\Temp/ipykernel_8360/1573266042.py\u001b[0m in \u001b[0;36m<module>\u001b[1;34m\u001b[0m\n\u001b[1;32m----> 1\u001b[1;33m \u001b[0mnp\u001b[0m\u001b[1;33m.\u001b[0m\u001b[0marray\u001b[0m\u001b[1;33m(\u001b[0m\u001b[1;36m1\u001b[0m\u001b[1;33m,\u001b[0m\u001b[1;36m1\u001b[0m\u001b[1;33m,\u001b[0m\u001b[1;36m1\u001b[0m\u001b[1;33m)\u001b[0m\u001b[1;33m\u001b[0m\u001b[1;33m\u001b[0m\u001b[0m\n\u001b[0m",
      "\u001b[1;31mTypeError\u001b[0m: array() takes from 1 to 2 positional arguments but 3 were given"
     ]
    }
   ],
   "source": [
    "np.array([1,1,1])"
   ]
  },
  {
   "cell_type": "code",
   "execution_count": 49,
   "id": "984e025e",
   "metadata": {},
   "outputs": [],
   "source": [
    "x1=[0,0,1,1]\n",
    "x2=[0,1,0,1]\n",
    "des=[0,0,1,1]"
   ]
  },
  {
   "cell_type": "code",
   "execution_count": 50,
   "id": "f6c00c9e",
   "metadata": {},
   "outputs": [],
   "source": [
    "w1=1\n",
    "w2=1\n",
    "act=[0,0,0,0]\n"
   ]
  },
  {
   "cell_type": "code",
   "execution_count": 51,
   "id": "5ed69514",
   "metadata": {
    "scrolled": false
   },
   "outputs": [
    {
     "name": "stdout",
     "output_type": "stream",
     "text": [
      "d is: [0, 0, 1, 1]\n",
      "y is: [0, 1, 1, 1]\n",
      "d is: [0, 0, 1, 1]\n",
      "y is: [0, 1, 1, 1]\n",
      "d is: [0, 0, 1, 1]\n",
      "y is: [0, 1, 1, 1]\n",
      "d is: [0, 0, 1, 1]\n",
      "y is: [0, 0, 1, 1]\n"
     ]
    }
   ],
   "source": [
    "while(act!=des):\n",
    "    for i in range(4):\n",
    "        res=x1[i]*w1+x2[i]*w2\n",
    "        if res>0.5:\n",
    "            act[i]=1\n",
    "        else: act[i]=0   \n",
    "        w1=w1+0.2*(des[i]-act[i])*x1[i]\n",
    "        w2=w2+0.2*(des[i]-act[i])*x2[i]\n",
    "    print(\"d is:\",des)\n",
    "    print('y is:',act)\n",
    "    \n",
    "    "
   ]
  },
  {
   "cell_type": "code",
   "execution_count": 54,
   "id": "249df740",
   "metadata": {},
   "outputs": [],
   "source": [
    "def make_pred(x1,x2):\n",
    "    res=x1*w1+x2*w2\n",
    "    if res>0.5:print(1)\n",
    "    else:print(0)    "
   ]
  },
  {
   "cell_type": "code",
   "execution_count": 57,
   "id": "51248c12",
   "metadata": {},
   "outputs": [
    {
     "name": "stdout",
     "output_type": "stream",
     "text": [
      "1\n"
     ]
    }
   ],
   "source": [
    "make_pred(1,0)"
   ]
  },
  {
   "cell_type": "code",
   "execution_count": null,
   "id": "ae4bdde8",
   "metadata": {},
   "outputs": [],
   "source": []
  }
 ],
 "metadata": {
  "kernelspec": {
   "display_name": "Python 3 (ipykernel)",
   "language": "python",
   "name": "python3"
  },
  "language_info": {
   "codemirror_mode": {
    "name": "ipython",
    "version": 3
   },
   "file_extension": ".py",
   "mimetype": "text/x-python",
   "name": "python",
   "nbconvert_exporter": "python",
   "pygments_lexer": "ipython3",
   "version": "3.9.7"
  },
  "varInspector": {
   "cols": {
    "lenName": 16,
    "lenType": 16,
    "lenVar": 40
   },
   "kernels_config": {
    "python": {
     "delete_cmd_postfix": "",
     "delete_cmd_prefix": "del ",
     "library": "var_list.py",
     "varRefreshCmd": "print(var_dic_list())"
    },
    "r": {
     "delete_cmd_postfix": ") ",
     "delete_cmd_prefix": "rm(",
     "library": "var_list.r",
     "varRefreshCmd": "cat(var_dic_list()) "
    }
   },
   "types_to_exclude": [
    "module",
    "function",
    "builtin_function_or_method",
    "instance",
    "_Feature"
   ],
   "window_display": false
  }
 },
 "nbformat": 4,
 "nbformat_minor": 5
}
