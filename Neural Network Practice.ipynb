{
 "cells": [
  {
   "cell_type": "code",
   "execution_count": null,
   "id": "6a19fe4f",
   "metadata": {},
   "outputs": [],
   "source": [
    "#!pip install nnfs "
   ]
  },
  {
   "cell_type": "code",
   "execution_count": 83,
   "id": "3e95ebfb",
   "metadata": {},
   "outputs": [],
   "source": [
    "import sys\n",
    "import nnfs\n",
    "import numpy as np\n",
    "#np.random.seed(0)\n",
    "nnfs.init()\n",
    "from nnfs.datasets import spiral_data\n",
    "import matplotlib.pyplot as plt\n",
    "%matplotlib inline"
   ]
  },
  {
   "cell_type": "markdown",
   "id": "6d74f3bc",
   "metadata": {},
   "source": [
    "### 4 Nueron with 1 output"
   ]
  },
  {
   "cell_type": "code",
   "execution_count": 17,
   "id": "3b61d4b0",
   "metadata": {},
   "outputs": [],
   "source": [
    "inp=np.array([1,2,3,2.5])\n",
    "weights=np.array([0.2,0.8,-0.5,1.])\n",
    "bias=2"
   ]
  },
  {
   "cell_type": "code",
   "execution_count": 18,
   "id": "5b379965",
   "metadata": {},
   "outputs": [
    {
     "data": {
      "text/plain": [
       "4.8"
      ]
     },
     "execution_count": 18,
     "metadata": {},
     "output_type": "execute_result"
    }
   ],
   "source": [
    "output=inp.dot(weights)+bias\n",
    "output"
   ]
  },
  {
   "cell_type": "markdown",
   "id": "5a5a217b",
   "metadata": {},
   "source": [
    "### 1 input with 3 outputs"
   ]
  },
  {
   "cell_type": "code",
   "execution_count": 52,
   "id": "7ba58a36",
   "metadata": {},
   "outputs": [],
   "source": [
    "inp1=[1,2,3,2.5]\n",
    "\n",
    "w=[\n",
    "    [0.2,0.8,-0.5,1.],\n",
    "    [0.5,-0.91,0.26,-0.5],\n",
    "    [-0.26,-0.27,0.17,0.87]\n",
    "]\n",
    "b=[2,3,0.5]\n"
   ]
  },
  {
   "cell_type": "code",
   "execution_count": 60,
   "id": "22e498a3",
   "metadata": {},
   "outputs": [
    {
     "name": "stdout",
     "output_type": "stream",
     "text": [
      "[4.8   1.21  2.385]\n"
     ]
    }
   ],
   "source": [
    "output=np.dot(w,inp1)+b\n",
    "print(output)"
   ]
  },
  {
   "cell_type": "markdown",
   "id": "eddb1a04",
   "metadata": {},
   "source": [
    "#### Batch inputs\n",
    "**Note:** in batches we have to inp.dot(w.T)"
   ]
  },
  {
   "cell_type": "code",
   "execution_count": 67,
   "id": "0d4fb3d2",
   "metadata": {},
   "outputs": [],
   "source": [
    "i=[\n",
    "    [1,2,3,2.5],\n",
    "    [2.,5.,-1.,2.0],\n",
    "    [-1.5,2.7,3.3,-0.8]\n",
    "  \n",
    "  ]\n",
    "#1st layer\n",
    "w=[\n",
    "    [0.2,0.8,-0.5,1.],\n",
    "    [0.5,-0.91,0.26,-0.5],\n",
    "    [-0.26,-0.27,0.17,0.87]\n",
    "   ]\n",
    "b=[2,3,0.5]\n",
    "#2nd layer\n",
    "w2=[\n",
    "    [0.1  , -0.14,  0.5],\n",
    "    [-0.5 , 0.12 ,-0.33],\n",
    "    [-0.44, 0.73 ,-0.13]\n",
    "   ]\n",
    "b2=[-1,2,-0.5]"
   ]
  },
  {
   "cell_type": "code",
   "execution_count": 68,
   "id": "243e9313",
   "metadata": {},
   "outputs": [
    {
     "name": "stdout",
     "output_type": "stream",
     "text": [
      "[[ 4.8    1.21   2.385]\n",
      " [ 8.9   -1.81   0.2  ]\n",
      " [ 1.41   1.051  0.026]]\n"
     ]
    }
   ],
   "source": [
    "layer1_output=np.dot(i,np.array(w).T)+b\n",
    "print(layer1_output)"
   ]
  },
  {
   "cell_type": "code",
   "execution_count": 70,
   "id": "56c87575",
   "metadata": {
    "scrolled": true
   },
   "outputs": [
    {
     "name": "stdout",
     "output_type": "stream",
     "text": [
      "[[ 0.5031  -1.04185 -2.03875]\n",
      " [ 0.2434  -2.7332  -5.7633 ]\n",
      " [-0.99314  1.41254 -0.35655]]\n"
     ]
    }
   ],
   "source": [
    "layer2_output=np.dot(layer1_output,np.array(w2).T)+b2\n",
    "print(layer2_output)"
   ]
  },
  {
   "cell_type": "code",
   "execution_count": null,
   "id": "8631ce25",
   "metadata": {},
   "outputs": [],
   "source": []
  },
  {
   "cell_type": "code",
   "execution_count": null,
   "id": "afd92ff9",
   "metadata": {},
   "outputs": [],
   "source": []
  },
  {
   "cell_type": "code",
   "execution_count": 74,
   "id": "4fd0192f",
   "metadata": {},
   "outputs": [],
   "source": [
    "class Layer_Dense:\n",
    "    def __init__(self,n_inputs,n_nueron):\n",
    "        self.weights = 0.1 * np.random.randn(n_inputs,n_nueron)\n",
    "        self.biases  = np.zeros((1,n_nueron))\n",
    "    def forward(self,inputs):\n",
    "        self.output=np.dot(inputs,self.weights)+self.biases\n",
    "        "
   ]
  },
  {
   "cell_type": "code",
   "execution_count": 85,
   "id": "8c9f1207",
   "metadata": {},
   "outputs": [],
   "source": [
    "class Activation_ReLU:\n",
    "    def forward(self,inputs):\n",
    "        self.output=np.maximum(0,inputs)"
   ]
  },
  {
   "cell_type": "code",
   "execution_count": 97,
   "id": "5b6cf802",
   "metadata": {},
   "outputs": [],
   "source": [
    "class Activation_SoftMax:\n",
    "    def forward(self,inputs):\n",
    "        exp_val=np.exp(inputs- np.max(inputs,axis=1,keepdims=True))\n",
    "        self.output=exp_val/np.sum(exp_val,axis=1,keepdims=True)"
   ]
  },
  {
   "cell_type": "code",
   "execution_count": 110,
   "id": "73fe0893",
   "metadata": {},
   "outputs": [],
   "source": [
    "class Loss:\n",
    "    def Calculate(self,desire,actual):\n",
    "        sample_losses = self.forward(desire,actual)\n",
    "        data_loss = np.mean(sample_losses)\n",
    "        return data_loss"
   ]
  },
  {
   "cell_type": "code",
   "execution_count": 111,
   "id": "a9b5d6cb",
   "metadata": {},
   "outputs": [],
   "source": [
    "class Loss_CategoricalCrossEntropy(Loss):\n",
    "    def forward(self,y_pred,y_true):\n",
    "        samples = len(y_pred)\n",
    "        y_pred_clipped = np.clip(y_pred,1e-7,1-1e-7)\n",
    "        if len(y_true.shape) == 1:\n",
    "            correct_confidences = y_pred_clipped[range(samples),y_true]\n",
    "        elif  len(y_true.shape) == 2:\n",
    "            correct_confidences = np.sum(y_pred_clipped*y_true,axis=1)\n",
    "        neg_log_likelihoods = -np.log(correct_confidences)   \n",
    "        return neg_log_likelihoods"
   ]
  },
  {
   "cell_type": "code",
   "execution_count": 75,
   "id": "ca654b4b",
   "metadata": {},
   "outputs": [],
   "source": [
    "X=[\n",
    "    [1,2,3,2.5],\n",
    "    [2.,5.,-1.,2.0],\n",
    "    [-1.5,2.7,3.3,-0.8]\n",
    "  \n",
    "  ]"
   ]
  },
  {
   "cell_type": "code",
   "execution_count": 76,
   "id": "e8d01612",
   "metadata": {},
   "outputs": [],
   "source": [
    "layer_1=Layer_Dense(4,5)\n",
    "layer_2=Layer_Dense(5,2)"
   ]
  },
  {
   "cell_type": "code",
   "execution_count": null,
   "id": "cdfb0764",
   "metadata": {},
   "outputs": [],
   "source": [
    "layer_1.forward(X)\n",
    "print(layer_1.output)"
   ]
  },
  {
   "cell_type": "code",
   "execution_count": null,
   "id": "ac009bb5",
   "metadata": {},
   "outputs": [],
   "source": [
    "layer_2.forward(layer_1.output)\n",
    "print(layer_2.output)"
   ]
  },
  {
   "cell_type": "code",
   "execution_count": 84,
   "id": "0bc0ceae",
   "metadata": {},
   "outputs": [],
   "source": [
    "X,y = spiral_data(100,3)"
   ]
  },
  {
   "cell_type": "markdown",
   "id": "6c3422d6",
   "metadata": {},
   "source": [
    "### Activation ReLU "
   ]
  },
  {
   "cell_type": "code",
   "execution_count": null,
   "id": "fc3984a8",
   "metadata": {},
   "outputs": [],
   "source": [
    "layer1=Layer_Dense(2,5)\n",
    "act1=Activation_ReLU()\n",
    "layer1.forward(X)\n",
    "act1.forward(layer1.output)\n",
    "print(act1.output)"
   ]
  },
  {
   "cell_type": "markdown",
   "id": "78213338",
   "metadata": {},
   "source": [
    "### Activation Softmax"
   ]
  },
  {
   "cell_type": "code",
   "execution_count": 94,
   "id": "734298c0",
   "metadata": {},
   "outputs": [],
   "source": [
    "inputs=[\n",
    "    [4.8,1.21,2.385],\n",
    "    [8.9,-1.81,0.2],\n",
    "    [1.41,1.051,0.026]\n",
    "]"
   ]
  },
  {
   "cell_type": "code",
   "execution_count": 98,
   "id": "b8ab2bf4",
   "metadata": {},
   "outputs": [
    {
     "name": "stdout",
     "output_type": "stream",
     "text": [
      "[[8.95282664e-01 2.47083068e-02 8.00090293e-02]\n",
      " [9.99811129e-01 2.23163963e-05 1.66554348e-04]\n",
      " [5.13097164e-01 3.58333899e-01 1.28568936e-01]]\n"
     ]
    }
   ],
   "source": [
    "softmax=Activation_SoftMax()\n",
    "softmax.forward(inputs)\n",
    "print(softmax.output)"
   ]
  },
  {
   "cell_type": "code",
   "execution_count": 99,
   "id": "5ef4f006",
   "metadata": {},
   "outputs": [],
   "source": [
    "X,y = spiral_data(100,3)"
   ]
  },
  {
   "cell_type": "code",
   "execution_count": 102,
   "id": "f3c9573c",
   "metadata": {},
   "outputs": [
    {
     "name": "stdout",
     "output_type": "stream",
     "text": [
      "[[0.33333334 0.33333334 0.33333334]\n",
      " [0.3333159  0.33334544 0.33333868]\n",
      " [0.333321   0.33334187 0.3333371 ]\n",
      " [0.33330086 0.33335584 0.33334327]\n",
      " [0.33327627 0.33337292 0.3333508 ]]\n"
     ]
    }
   ],
   "source": [
    "dense1=Layer_Dense(2,3)\n",
    "act1=Activation_ReLU()\n",
    "\n",
    "dense2=Layer_Dense(3,3)\n",
    "act2=Activation_SoftMax()\n",
    "\n",
    "dense1.forward(X)\n",
    "act1.forward(dense1.output)\n",
    "\n",
    "dense2.forward(act1.output)\n",
    "act2.forward(dense2.output)\n",
    "\n",
    "print(act2.output[:5])"
   ]
  },
  {
   "cell_type": "markdown",
   "id": "74f8eeec",
   "metadata": {},
   "source": [
    "### Categorical Cross-Entropy\n",
    "$-\\sum_{{i,j}=1}^{n} d_i*log(y_j)$<br>\n",
    "**where** <br>$d_i$ is desire output <br>\n",
    "$y_j$ is actual/predicted output"
   ]
  },
  {
   "cell_type": "code",
   "execution_count": 109,
   "id": "95db23fe",
   "metadata": {},
   "outputs": [
    {
     "name": "stdout",
     "output_type": "stream",
     "text": [
      "0.35667494393873245\n"
     ]
    }
   ],
   "source": [
    "import math\n",
    "# let its an softmax output\n",
    "softmax_output = [0.7,0.1,0.2]\n",
    "#one hot encoding\n",
    "target_output = [1,0,0]\n",
    "loss=-(target_output[0] * math.log(softmax_output[0])\n",
    "      + target_output[1] * math.log(softmax_output[1])\n",
    "      + target_output[2]  * math.log(softmax_output[2])\n",
    "      )\n",
    "print(loss)"
   ]
  },
  {
   "cell_type": "code",
   "execution_count": 112,
   "id": "22f01c0f",
   "metadata": {},
   "outputs": [
    {
     "name": "stdout",
     "output_type": "stream",
     "text": [
      "1.0983953\n"
     ]
    }
   ],
   "source": [
    "loss_function=Loss_CategoricalCrossEntropy()\n",
    "loss=loss_function.Calculate(act2.output,y)\n",
    "print(loss)"
   ]
  },
  {
   "cell_type": "code",
   "execution_count": 1,
   "id": "a6edb83c",
   "metadata": {},
   "outputs": [],
   "source": [
    "import math\n",
    "import random\n",
    "import numpy as np\n",
    "np.random.seed(0)\n",
    "import pandas as pd\n",
    "from matplotlib import pyplot as plt\n",
    "%matplotlib inline"
   ]
  },
  {
   "cell_type": "code",
   "execution_count": 2,
   "id": "d6b13ab0",
   "metadata": {},
   "outputs": [],
   "source": [
    "def init_weights_biases():\n",
    "    # weights and bias should be -0.5 to 0.5\n",
    "    # 28,28 pixels will 784 vector and hidden layer has 10 nueron so (10,784)\n",
    "    W1 = np.random.rand(10, 784) - 0.5  \n",
    "    # every nueron has unique bias\n",
    "    b1 = np.random.rand(10, 1) - 0.5\n",
    "    # output layer will have 10 ---> 0-9 = 10 so from hidden nueron 10 will \n",
    "    W2 = np.random.rand(10, 10) - 0.5\n",
    "    # every nueron has unique bias\n",
    "    b2 = np.random.rand(10, 1) - 0.5\n",
    "    return W1, b1, W2, b2"
   ]
  },
  {
   "cell_type": "code",
   "execution_count": 3,
   "id": "cb2fb75e",
   "metadata": {},
   "outputs": [],
   "source": [
    "def Activation_ReLU(i_out):\n",
    "    return np.maximum(i_out, 0) # 0 for -inf to 0 for others will be i_out itself"
   ]
  },
  {
   "cell_type": "code",
   "execution_count": 4,
   "id": "54f88138",
   "metadata": {},
   "outputs": [],
   "source": [
    "def Activation_ReLU_deriv(i_out):\n",
    "    return i_out > 0 # due to ReLU function curve either 0 , 1 = False , True"
   ]
  },
  {
   "cell_type": "code",
   "execution_count": 5,
   "id": "941d5a38",
   "metadata": {},
   "outputs": [],
   "source": [
    "def Activation_Softmax(j_out):\n",
    "    act = np.exp(j_out) / sum(np.exp(j_out))\n",
    "    return act"
   ]
  },
  {
   "cell_type": "code",
   "execution_count": 6,
   "id": "46bcef45",
   "metadata": {},
   "outputs": [],
   "source": [
    "def Activation_Sigmoid(j_out):\n",
    "    exp_val=np.exp(-j_out)\n",
    "    return 1/(1+exp_val)"
   ]
  },
  {
   "cell_type": "code",
   "execution_count": 7,
   "id": "d3a728fa",
   "metadata": {},
   "outputs": [],
   "source": [
    "def calculate_outputs(W1, b1, W2, b2, X):\n",
    "    #(10,784).(784,rows)=(10,rows)\n",
    "    i_out = W1.dot(X) + b1\n",
    "    reLU = Activation_ReLU(i_out)\n",
    "    #(1,10).(10,rows)=(1,rows)\n",
    "    j_out = W2.dot(reLU) + b2\n",
    "    s_max = Activation_Softmax(j_out)\n",
    "    return i_out, reLU, j_out, s_max"
   ]
  },
  {
   "cell_type": "code",
   "execution_count": 8,
   "id": "62a3f037",
   "metadata": {},
   "outputs": [],
   "source": [
    "def one_hot(Y):\n",
    "    one_hot_Y = np.zeros((Y.size, Y.max() + 1))\n",
    "    one_hot_Y[np.arange(Y.size), Y] = 1\n",
    "    one_hot_Y = one_hot_Y.T\n",
    "    return one_hot_Y"
   ]
  },
  {
   "cell_type": "code",
   "execution_count": 9,
   "id": "b9c2b104",
   "metadata": {},
   "outputs": [],
   "source": [
    "def calculate_error(i_out, reLU, j_out, s_max, W1, W2, X, Y):\n",
    "    one_hot_Y = one_hot(Y)\n",
    "    #(1,rows)\n",
    "    dj_out = s_max - one_hot_Y\n",
    "    #(1,rows).(rows,10)\n",
    "    dW2 = 1 / rows * dj_out.dot(reLU.T)\n",
    "    db2 = 1 / rows * np.sum(dj_out)\n",
    "    #(10,1).(1,rows) = (10,rows)\n",
    "    di_out = W2.T.dot(dj_out) * Activation_ReLU_deriv(i_out)\n",
    "    #(10,rows).(rows,784)\n",
    "    dW1 = 1 / rows * di_out.dot(X.T)\n",
    "    db1 = 1 / rows * np.sum(di_out)\n",
    "    return dW1, db1, dW2, db2"
   ]
  },
  {
   "cell_type": "code",
   "execution_count": 10,
   "id": "683fcc35",
   "metadata": {},
   "outputs": [],
   "source": [
    "def update_wbs(W1, b1, W2, b2, dW1, db1, dW2, db2, rate):\n",
    "    W1 = W1 - rate * dW1\n",
    "    b1 = b1 - rate * db1    \n",
    "    W2 = W2 - rate * dW2  \n",
    "    b2 = b2 - rate * db2    \n",
    "    return W1, b1, W2, b2"
   ]
  },
  {
   "cell_type": "code",
   "execution_count": 11,
   "id": "f6ac7a4d",
   "metadata": {},
   "outputs": [],
   "source": [
    "def predict(s_max):\n",
    "    return np.argmax(s_max, 0) # will return maximum value index"
   ]
  },
  {
   "cell_type": "code",
   "execution_count": 12,
   "id": "6af393be",
   "metadata": {},
   "outputs": [],
   "source": [
    "def cal_accuracy(y_cap, Y):\n",
    "    return (np.sum(y_cap == Y) / Y.size)*100 # how many times pred and y are equals"
   ]
  },
  {
   "cell_type": "code",
   "execution_count": 13,
   "id": "214f6e45",
   "metadata": {},
   "outputs": [],
   "source": [
    "def gradient_descent(X, Y, rate, epochs):\n",
    "    W1, b1, W2, b2 = init_weights_biases()\n",
    "    for i in range(epochs):\n",
    "        i_out, reLU, j_out, s_max = calculate_outputs(W1, b1, W2, b2, X)\n",
    "        dW1, db1, dW2, db2 = calculate_error(i_out, reLU, j_out, s_max, W1, W2, X, Y)\n",
    "        W1, b1, W2, b2 = update_wbs(W1, b1, W2, b2, dW1, db1, dW2, db2, rate)\n",
    "        if i % 100 == 0:\n",
    "            print(\"Iteration: \", i)\n",
    "            y_cap = predict(s_max)\n",
    "        \n",
    "            print(\"Accuracy:\",cal_accuracy(y_cap, Y))\n",
    "    return W1, b1, W2, b2"
   ]
  },
  {
   "cell_type": "code",
   "execution_count": 14,
   "id": "c92f9e8d",
   "metadata": {},
   "outputs": [],
   "source": [
    "def cal_predictions(X, W1, b1, W2, b2):\n",
    "    i_out, reLU, j_out, s_max = calculate_outputs(W1, b1, W2, b2, X)\n",
    "    y_cap = predict(s_max)\n",
    "    return y_cap"
   ]
  },
  {
   "cell_type": "code",
   "execution_count": 15,
   "id": "d23955d0",
   "metadata": {},
   "outputs": [],
   "source": [
    "def check_prediction(image, label,W1, b1, W2, b2):\n",
    "    \n",
    "    y_cap = cal_predictions(image, W1, b1, W2, b2)\n",
    "    \n",
    "    print(\"Prediction: \",  y_cap)\n",
    "    print(\"Label: \", label)\n",
    "    \n",
    "    image = image.reshape((28, 28)) * 255\n",
    "    plt.imshow(image)\n",
    "    plt.show()"
   ]
  },
  {
   "cell_type": "code",
   "execution_count": null,
   "id": "333efd85",
   "metadata": {},
   "outputs": [],
   "source": [
    "data = np.array(ds.values)\n",
    "data = data.T #(785,m)\n",
    "Y = data [0]\n",
    "X = data [1:]\n",
    "X = X / 255.\n",
    "cols,rows = X.shape\n",
    "cols,rows, Y.shape"
   ]
  },
  {
   "cell_type": "code",
   "execution_count": null,
   "id": "bfc438c9",
   "metadata": {},
   "outputs": [],
   "source": [
    "W1, b1, W2, b2 = gradient_descent(X_train, Y_train, 0.5, 501)"
   ]
  },
  {
   "cell_type": "code",
   "execution_count": null,
   "id": "53679680",
   "metadata": {},
   "outputs": [],
   "source": [
    "for i in range(10):\n",
    "    image=np.array(test.T.iloc[:,i])\n",
    "    label=image[0]\n",
    "    image=image[1:,None]/255\n",
    "    check_prediction(image,label, W1, b1, W2, b2)"
   ]
  }
 ],
 "metadata": {
  "kernelspec": {
   "display_name": "Python 3 (ipykernel)",
   "language": "python",
   "name": "python3"
  },
  "language_info": {
   "codemirror_mode": {
    "name": "ipython",
    "version": 3
   },
   "file_extension": ".py",
   "mimetype": "text/x-python",
   "name": "python",
   "nbconvert_exporter": "python",
   "pygments_lexer": "ipython3",
   "version": "3.9.7"
  },
  "varInspector": {
   "cols": {
    "lenName": 16,
    "lenType": 16,
    "lenVar": 40
   },
   "kernels_config": {
    "python": {
     "delete_cmd_postfix": "",
     "delete_cmd_prefix": "del ",
     "library": "var_list.py",
     "varRefreshCmd": "print(var_dic_list())"
    },
    "r": {
     "delete_cmd_postfix": ") ",
     "delete_cmd_prefix": "rm(",
     "library": "var_list.r",
     "varRefreshCmd": "cat(var_dic_list()) "
    }
   },
   "types_to_exclude": [
    "module",
    "function",
    "builtin_function_or_method",
    "instance",
    "_Feature"
   ],
   "window_display": false
  }
 },
 "nbformat": 4,
 "nbformat_minor": 5
}
